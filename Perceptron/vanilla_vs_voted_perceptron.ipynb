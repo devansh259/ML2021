{
 "cells": [
  {
   "cell_type": "code",
   "execution_count": 62,
   "metadata": {},
   "outputs": [],
   "source": [
    "import numpy as np\n",
    "import pandas as pd\n",
    "import matplotlib.pyplot as plt"
   ]
  },
  {
   "cell_type": "code",
   "execution_count": 63,
   "metadata": {},
   "outputs": [
    {
     "data": {
      "text/html": [
       "<div>\n",
       "<style scoped>\n",
       "    .dataframe tbody tr th:only-of-type {\n",
       "        vertical-align: middle;\n",
       "    }\n",
       "\n",
       "    .dataframe tbody tr th {\n",
       "        vertical-align: top;\n",
       "    }\n",
       "\n",
       "    .dataframe thead th {\n",
       "        text-align: right;\n",
       "    }\n",
       "</style>\n",
       "<table border=\"1\" class=\"dataframe\">\n",
       "  <thead>\n",
       "    <tr style=\"text-align: right;\">\n",
       "      <th></th>\n",
       "      <th>30</th>\n",
       "      <th>64</th>\n",
       "      <th>1</th>\n",
       "      <th>1.1</th>\n",
       "    </tr>\n",
       "  </thead>\n",
       "  <tbody>\n",
       "    <tr>\n",
       "      <th>0</th>\n",
       "      <td>30</td>\n",
       "      <td>62</td>\n",
       "      <td>3</td>\n",
       "      <td>1</td>\n",
       "    </tr>\n",
       "    <tr>\n",
       "      <th>1</th>\n",
       "      <td>30</td>\n",
       "      <td>65</td>\n",
       "      <td>0</td>\n",
       "      <td>1</td>\n",
       "    </tr>\n",
       "    <tr>\n",
       "      <th>2</th>\n",
       "      <td>31</td>\n",
       "      <td>59</td>\n",
       "      <td>2</td>\n",
       "      <td>1</td>\n",
       "    </tr>\n",
       "    <tr>\n",
       "      <th>3</th>\n",
       "      <td>31</td>\n",
       "      <td>65</td>\n",
       "      <td>4</td>\n",
       "      <td>1</td>\n",
       "    </tr>\n",
       "    <tr>\n",
       "      <th>4</th>\n",
       "      <td>33</td>\n",
       "      <td>58</td>\n",
       "      <td>10</td>\n",
       "      <td>1</td>\n",
       "    </tr>\n",
       "    <tr>\n",
       "      <th>...</th>\n",
       "      <td>...</td>\n",
       "      <td>...</td>\n",
       "      <td>...</td>\n",
       "      <td>...</td>\n",
       "    </tr>\n",
       "    <tr>\n",
       "      <th>300</th>\n",
       "      <td>75</td>\n",
       "      <td>62</td>\n",
       "      <td>1</td>\n",
       "      <td>1</td>\n",
       "    </tr>\n",
       "    <tr>\n",
       "      <th>301</th>\n",
       "      <td>76</td>\n",
       "      <td>67</td>\n",
       "      <td>0</td>\n",
       "      <td>1</td>\n",
       "    </tr>\n",
       "    <tr>\n",
       "      <th>302</th>\n",
       "      <td>77</td>\n",
       "      <td>65</td>\n",
       "      <td>3</td>\n",
       "      <td>1</td>\n",
       "    </tr>\n",
       "    <tr>\n",
       "      <th>303</th>\n",
       "      <td>78</td>\n",
       "      <td>65</td>\n",
       "      <td>1</td>\n",
       "      <td>2</td>\n",
       "    </tr>\n",
       "    <tr>\n",
       "      <th>304</th>\n",
       "      <td>83</td>\n",
       "      <td>58</td>\n",
       "      <td>2</td>\n",
       "      <td>2</td>\n",
       "    </tr>\n",
       "  </tbody>\n",
       "</table>\n",
       "<p>305 rows × 4 columns</p>\n",
       "</div>"
      ],
      "text/plain": [
       "     30  64   1  1.1\n",
       "0    30  62   3    1\n",
       "1    30  65   0    1\n",
       "2    31  59   2    1\n",
       "3    31  65   4    1\n",
       "4    33  58  10    1\n",
       "..   ..  ..  ..  ...\n",
       "300  75  62   1    1\n",
       "301  76  67   0    1\n",
       "302  77  65   3    1\n",
       "303  78  65   1    2\n",
       "304  83  58   2    2\n",
       "\n",
       "[305 rows x 4 columns]"
      ]
     },
     "execution_count": 63,
     "metadata": {},
     "output_type": "execute_result"
    }
   ],
   "source": [
    "data = pd.read_csv(\"haberman.csv\")\n",
    "df = pd.DataFrame(data)\n",
    "df"
   ]
  },
  {
   "cell_type": "code",
   "execution_count": 64,
   "metadata": {},
   "outputs": [
    {
     "data": {
      "text/html": [
       "<div>\n",
       "<style scoped>\n",
       "    .dataframe tbody tr th:only-of-type {\n",
       "        vertical-align: middle;\n",
       "    }\n",
       "\n",
       "    .dataframe tbody tr th {\n",
       "        vertical-align: top;\n",
       "    }\n",
       "\n",
       "    .dataframe thead th {\n",
       "        text-align: right;\n",
       "    }\n",
       "</style>\n",
       "<table border=\"1\" class=\"dataframe\">\n",
       "  <thead>\n",
       "    <tr style=\"text-align: right;\">\n",
       "      <th></th>\n",
       "      <th>survival</th>\n",
       "    </tr>\n",
       "  </thead>\n",
       "  <tbody>\n",
       "    <tr>\n",
       "      <th>0</th>\n",
       "      <td>1</td>\n",
       "    </tr>\n",
       "    <tr>\n",
       "      <th>1</th>\n",
       "      <td>1</td>\n",
       "    </tr>\n",
       "    <tr>\n",
       "      <th>2</th>\n",
       "      <td>1</td>\n",
       "    </tr>\n",
       "    <tr>\n",
       "      <th>3</th>\n",
       "      <td>1</td>\n",
       "    </tr>\n",
       "    <tr>\n",
       "      <th>4</th>\n",
       "      <td>1</td>\n",
       "    </tr>\n",
       "    <tr>\n",
       "      <th>...</th>\n",
       "      <td>...</td>\n",
       "    </tr>\n",
       "    <tr>\n",
       "      <th>300</th>\n",
       "      <td>1</td>\n",
       "    </tr>\n",
       "    <tr>\n",
       "      <th>301</th>\n",
       "      <td>1</td>\n",
       "    </tr>\n",
       "    <tr>\n",
       "      <th>302</th>\n",
       "      <td>1</td>\n",
       "    </tr>\n",
       "    <tr>\n",
       "      <th>303</th>\n",
       "      <td>2</td>\n",
       "    </tr>\n",
       "    <tr>\n",
       "      <th>304</th>\n",
       "      <td>2</td>\n",
       "    </tr>\n",
       "  </tbody>\n",
       "</table>\n",
       "<p>305 rows × 1 columns</p>\n",
       "</div>"
      ],
      "text/plain": [
       "     survival\n",
       "0           1\n",
       "1           1\n",
       "2           1\n",
       "3           1\n",
       "4           1\n",
       "..        ...\n",
       "300         1\n",
       "301         1\n",
       "302         1\n",
       "303         2\n",
       "304         2\n",
       "\n",
       "[305 rows x 1 columns]"
      ]
     },
     "execution_count": 64,
     "metadata": {},
     "output_type": "execute_result"
    }
   ],
   "source": [
    "cols=[0,1,2]\n",
    "df.drop(df.columns[cols],axis=1,inplace = True)\n",
    "df.columns =['survival']\n",
    "df"
   ]
  },
  {
   "cell_type": "code",
   "execution_count": 65,
   "metadata": {},
   "outputs": [
    {
     "name": "stdout",
     "output_type": "stream",
     "text": [
      "     30  64   1\n",
      "0    30  62   3\n",
      "1    30  65   0\n",
      "2    31  59   2\n",
      "3    31  65   4\n",
      "4    33  58  10\n",
      "..   ..  ..  ..\n",
      "300  75  62   1\n",
      "301  76  67   0\n",
      "302  77  65   3\n",
      "303  78  65   1\n",
      "304  83  58   2\n",
      "\n",
      "[305 rows x 3 columns]\n"
     ]
    }
   ],
   "source": [
    "\n",
    "data = pd.read_csv(\"haberman.csv\")\n",
    "X = pd.DataFrame(data)\n",
    "X.drop(X.columns[3],axis=1,inplace = True)\n",
    "print(X)"
   ]
  },
  {
   "cell_type": "code",
   "execution_count": 66,
   "metadata": {},
   "outputs": [],
   "source": [
    "features = 3\n",
    "w = np.zeros(features)\n",
    "b = 0\n",
    "R = []\n",
    "for index in df.index:\n",
    "    if df.loc[index,'survival']==2:\n",
    "        df.loc[index,'survival']=-1"
   ]
  },
  {
   "cell_type": "code",
   "execution_count": 67,
   "metadata": {},
   "outputs": [
    {
     "name": "stdout",
     "output_type": "stream",
     "text": [
      "The W matrix is:\n",
      " 30   -150.0\n",
      "64     29.0\n",
      "1     -96.0\n",
      "Name: 0, dtype: float64\n",
      "B value is: 100\n"
     ]
    }
   ],
   "source": [
    "#Vanilla Perceptron\n",
    "acc1=[] \n",
    "for j in range(100):\n",
    "    acc = 0\n",
    "    for i in range(304):\n",
    "        a = np.dot(w,X.iloc[i])+b\n",
    "        R.append(np.sign(a))\n",
    "        \n",
    "        if df.iloc[i]['survival']*a <=0:\n",
    "            w += np.multiply(X.iloc[i],df.iloc[i]['survival'])\n",
    "            b += df.iloc[i]['survival']\n",
    "    \n",
    "    for l in range(304):\n",
    "        if np.sign(np.dot(w,X.iloc[l])+b)==df.iloc[l]['survival']:\n",
    "            acc+=1\n",
    "    acc1.append(acc)\n",
    "    \n",
    "    \n",
    "print('The W matrix is:\\n',w)  \n",
    "print('B value is:',b)\n"
   ]
  },
  {
   "cell_type": "code",
   "execution_count": 68,
   "metadata": {},
   "outputs": [
    {
     "name": "stdout",
     "output_type": "stream",
     "text": [
      "The voted W matrix is:\n",
      " 30    8.657157e+13\n",
      "64   -5.645028e+13\n",
      "1    -2.320650e+13\n",
      "Name: 6, dtype: float64\n",
      "The voted b is: 12413182358145.61\n"
     ]
    }
   ],
   "source": [
    "#voted perceptron\n",
    "w = np.ones(3)\n",
    "b = 0\n",
    "R = []\n",
    "c=1\n",
    "acc2=[]\n",
    "for j in range(100):\n",
    "    b_voted = 0\n",
    "    voted = 0\n",
    "    acc = 0\n",
    "    for i in range(304):\n",
    "        a = np.dot(w,X.iloc[i])+b\n",
    "        c+=1\n",
    "        if df.iloc[i]['survival']*a <=0:\n",
    "            voted += np.multiply(w,c)\n",
    "            b_voted += np.multiply(b,c)\n",
    "            c=1\n",
    "            w += np.multiply(X.iloc[i],df.iloc[i]['survival'])\n",
    "            b += df.iloc[i]['survival']\n",
    "    for k in range(304):\n",
    "        if np.sign(np.dot(w,X.iloc[k])+b)==df.iloc[k]['survival']:\n",
    "            acc+=1\n",
    "    acc2.append(acc)     \n",
    "    \n",
    "    w = voted/304\n",
    "    b = b_voted/304\n",
    "\n",
    "    \n",
    "acc1 = [ x/3.04 for x in acc1]\n",
    "acc2 = [ x/3.04 for x in acc2]    \n",
    "    \n",
    "print('The voted W matrix is:\\n',w)\n",
    "print('The voted b is:',b)\n",
    "\n",
    "\n",
    "\n"
   ]
  },
  {
   "cell_type": "code",
   "execution_count": 61,
   "metadata": {},
   "outputs": [
    {
     "data": {
      "image/png": "[encoded data removed]",
      "text/plain": [
       "<Figure size 432x288 with 1 Axes>"
      ]
     },
     "metadata": {
      "needs_background": "light"
     },
     "output_type": "display_data"
    }
   ],
   "source": [
    "\n",
    "plt.title(\"ephoch vs accuracy\")\n",
    "plt.plot(np.arange(100), acc1, label = 'vanilla perceptron')\n",
    "plt.plot(np.arange(100), acc2, label = 'voted perceptron')\n",
    "plt.xlabel(\"epoch\")\n",
    "plt.ylabel(\"accuracy\")\n",
    "plt.legend()\n",
    "plt.show()"
   ]
  },
  {
   "cell_type": "code",
   "execution_count": null,
   "metadata": {},
   "outputs": [],
   "source": []
  }
 ],
 "metadata": {
  "kernelspec": {
   "display_name": "Python 3",
   "language": "python",
   "name": "python3"
  },
  "language_info": {
   "codemirror_mode": {
    "name": "ipython",
    "version": 3
   },
   "file_extension": ".py",
   "mimetype": "text/x-python",
   "name": "python",
   "nbconvert_exporter": "python",
   "pygments_lexer": "ipython3",
   "version": "3.8.5"
  }
 },
 "nbformat": 4,
 "nbformat_minor": 4
}
